{
  "nbformat": 4,
  "nbformat_minor": 0,
  "metadata": {
    "colab": {
      "name": "Exercício _11.ipynb",
      "provenance": []
    },
    "kernelspec": {
      "name": "python3",
      "display_name": "Python 3"
    }
  },
  "cells": [
    {
      "cell_type": "code",
      "metadata": {
        "id": "Sjsc_v5K3rXr"
      },
      "source": [
        "mediaNotas = []\n",
        "contador = 0\n",
        "maluno = 2\n",
        "\n",
        "for j in range(maluno):\n",
        "  nome = input(\"nome:\")\n",
        "  soma = 0\n",
        "  for i in range(4):\n",
        "    nota = float(input(\"Nota:\"))\n",
        "    soma += nota\n",
        "  media =  soma/4\n",
        "  mediaNotas.append(media)\n",
        "  print(\"Aluno:\", nome)\n",
        "  print(\"Media:\", media)\n",
        "\n",
        "for i in range(maluno):\n",
        "  if mediaNotas[i] >= 7:\n",
        "    contador = contador + 1\n",
        "\n",
        "print(\"Quantidade de média maiores que 7:\", contador)"
      ],
      "execution_count": null,
      "outputs": []
    }
  ]
}