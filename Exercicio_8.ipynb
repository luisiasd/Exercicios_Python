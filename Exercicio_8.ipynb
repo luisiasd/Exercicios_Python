{
  "nbformat": 4,
  "nbformat_minor": 0,
  "metadata": {
    "colab": {
      "name": "Exercicio 8.ipynb",
      "provenance": [],
      "collapsed_sections": []
    },
    "kernelspec": {
      "name": "python3",
      "display_name": "Python 3"
    }
  },
  "cells": [
    {
      "cell_type": "markdown",
      "metadata": {
        "id": "u0TJA5nJcqvR"
      },
      "source": [
        "8 - Faça um programa que pergunte quanto você ganha por hora e o número de horas trabalhadas no mês. Calcule e mostre o total do seu salário no referido mês."
      ]
    },
    {
      "cell_type": "code",
      "metadata": {
        "id": "XoBmxAwrcsDz",
        "colab": {
          "base_uri": "https://localhost:8080/"
        },
        "outputId": "58ccce88-c4c2-4394-d451-15d2f32d55c8"
      },
      "source": [
        "print(\"Programa de Calculo de hrs Trabalhadas\")\n",
        "\n",
        "def questions():  \n",
        "  lucroHoras = int(input(\"Lucro por hora?:\"))\n",
        "  qtdHoras   = int(input(\"Quantidade horas trabalhadas no mês:?\"))\n",
        "\n",
        "  resul = lucroHoras * qtdHoras\n",
        "  print(\"Total R$:\", resul)\n",
        "  \n"
      ],
      "execution_count": 4,
      "outputs": [
        {
          "output_type": "stream",
          "text": [
            "Programa de Calculo de hrs Trabalhadas\n"
          ],
          "name": "stdout"
        }
      ]
    },
    {
      "cell_type": "code",
      "metadata": {
        "colab": {
          "base_uri": "https://localhost:8080/"
        },
        "id": "p7z2n_HsmVHy",
        "outputId": "edfe5988-7b4a-4c39-9e97-2983de341ad8"
      },
      "source": [
        "questions()"
      ],
      "execution_count": 6,
      "outputs": [
        {
          "output_type": "stream",
          "text": [
            "Lucro por hora?:350\n",
            "Quantidade horas trabalhadas no mês:?160\n",
            "Total R$: 56000\n"
          ],
          "name": "stdout"
        }
      ]
    }
  ]
}