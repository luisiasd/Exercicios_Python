{
  "nbformat": 4,
  "nbformat_minor": 0,
  "metadata": {
    "colab": {
      "name": "Exercicio_9.ipynb",
      "provenance": [],
      "collapsed_sections": [
        "cjD0qh7RzX1r",
        "ml71NmGFzbJ9",
        "MoVucPcHzeQP"
      ]
    },
    "kernelspec": {
      "name": "python3",
      "display_name": "Python 3"
    }
  },
  "cells": [
    {
      "cell_type": "code",
      "metadata": {
        "id": "jdmSXOkyKMNv"
      },
      "source": [
        "#lista\n",
        "veiculo = []\n",
        "pessoa = []\n",
        "mercadoria = []"
      ],
      "execution_count": 54,
      "outputs": []
    },
    {
      "cell_type": "markdown",
      "metadata": {
        "id": "Tg4wFC5z1HyP"
      },
      "source": [
        "###Identificando registro Veiculos / Pessoa / mercadorias"
      ]
    },
    {
      "cell_type": "code",
      "metadata": {
        "id": "2JniBcaexm3q"
      },
      "source": [
        "#Identificando registro Veiculos / Pessoa / mercadorias\n",
        "def identificandoApreensao():\n",
        "  print(\"Apreensão - veiculo - pessoa - mercadoria\")\n",
        "  tipoAprend = str(input(\":\"))\n",
        "  quant = int(input(\"Quantidade de Registros?:\"))\n",
        "  \n",
        "  if tipoAprend == 'veiculo':\n",
        "    for i in range(quant):\n",
        "      veiculo()\n",
        "  elif tipoAprend == 'pessoa':\n",
        "    for i in range(quant):\n",
        "      pessoa()\n",
        "  elif tipoAprend == 'mercadoria':\n",
        "    for i in range(quant):\n",
        "      mercadoria()\n",
        "  else:\n",
        "    print(\"Identificação Incorreta!!\")\n",
        "    identificandoVeiculo()\n",
        "\n",
        "def loop():\n",
        "  loop = str(input(\"Fazer mais um Registro?:\"))\n",
        "  if loop == 'sim':\n",
        "    identificandoApreensao()\n",
        "  elif loop == 'não':\n",
        "    print(\"OK!\")\n",
        "  else:\n",
        "    print(\"Comando Invalido.\")\n",
        "    loop()\n"
      ],
      "execution_count": 44,
      "outputs": []
    },
    {
      "cell_type": "markdown",
      "metadata": {
        "id": "cjD0qh7RzX1r"
      },
      "source": [
        "###Registrando Apreesão de Veiculo"
      ]
    },
    {
      "cell_type": "code",
      "metadata": {
        "id": "ik2JAeAmO0kV"
      },
      "source": [
        "#Registrando Apreesão de Veiculo\n",
        "def veiculo():\n",
        "   carro.append(input(\"Chassi:\"))\n",
        "   carro.append(input(\"Placa:\"))\n",
        "   carro.append(input(\"Nome do Veiculo:\"))\n",
        "   carro.append(input(\"Data:\"))\n",
        "   carro.append(str(input(\"Motivo\")))"
      ],
      "execution_count": 41,
      "outputs": []
    },
    {
      "cell_type": "markdown",
      "metadata": {
        "id": "ml71NmGFzbJ9"
      },
      "source": [
        "###Registrando Apreensão de Pessoa"
      ]
    },
    {
      "cell_type": "code",
      "metadata": {
        "id": "reEjPo9N0mJT"
      },
      "source": [
        "#Registrando Apreensão de Pessoa\n",
        "def pessoa():\n",
        "  pessoa.append(input(\"CPF:\"))\n",
        "  pessoa.append(input(\"Nome:\"))\n",
        "  pessoa.append(input(\"Sobrenome:\"))\n",
        "  pessoa.append(input(\"RG:\"))\n",
        "  pessoa.append(input(\"Sexo:\"))\n",
        "  pessoa.append(input(\"Data de Nascimento:\"))\n",
        "  pessoa.append(input(\"Cod. Crime:\"))\n",
        "  pessoa.append(input(\"Testemunhas:\"))\n",
        "  pessoa.append(input(\"Descrição do Crime:\"))"
      ],
      "execution_count": 38,
      "outputs": []
    },
    {
      "cell_type": "markdown",
      "metadata": {
        "id": "MoVucPcHzeQP"
      },
      "source": [
        "###Registro de Apreensão de Mercadoria"
      ]
    },
    {
      "cell_type": "code",
      "metadata": {
        "id": "SK0fpUKRuoao"
      },
      "source": [
        "#Registro de Apreensão de Mercadoria\n",
        "def mercadoria():\n",
        "  mercadoria.append(input(\"Cod. Mercadoria:\"))\n",
        "  mercadoria.append(input(\"Nome:\"))\n",
        "  def undMedida ():\n",
        "    unidadeMedida = str(input(\"kg - Lt?:\"))\n",
        "    quantidade = int(input(\"Quantidade:\"))\n",
        "    totalMercadoria = quantidade * unidadeMedida\n",
        "    if unidadeMedida == 'kg':\n",
        "      mercadoria.append(totalmercadoria,\"kg\")\n",
        "    elif unidadeMercadoria == 'lt':\n",
        "      mercadoria.append(totalmercadoria, \"lt\")\n",
        "    else:\n",
        "      print(\"Valor não Aceito!!\")\n",
        "      undMedida()"
      ],
      "execution_count": 51,
      "outputs": []
    },
    {
      "cell_type": "markdown",
      "metadata": {
        "id": "PdlZ6siUxh1A"
      },
      "source": [
        "##\"tela de comandos\""
      ]
    },
    {
      "cell_type": "code",
      "metadata": {
        "id": "hylo_LmGxg9G",
        "colab": {
          "base_uri": "https://localhost:8080/",
          "height": 0
        },
        "outputId": "7db17663-000d-42a0-cc7a-f11f8c04a274"
      },
      "source": [
        "identificandoApreensao()"
      ],
      "execution_count": 55,
      "outputs": [
        {
          "output_type": "stream",
          "text": [
            "Apreensão - veiculo - pessoa - mercadoria\n",
            ":veiculo\n",
            "Quantidade de Registros?:1\n"
          ],
          "name": "stdout"
        },
        {
          "output_type": "error",
          "ename": "TypeError",
          "evalue": "ignored",
          "traceback": [
            "\u001b[0;31m---------------------------------------------------------------------------\u001b[0m",
            "\u001b[0;31mTypeError\u001b[0m                                 Traceback (most recent call last)",
            "\u001b[0;32m<ipython-input-55-5819f85636f0>\u001b[0m in \u001b[0;36m<module>\u001b[0;34m()\u001b[0m\n\u001b[0;32m----> 1\u001b[0;31m \u001b[0midentificandoApreensao\u001b[0m\u001b[0;34m(\u001b[0m\u001b[0;34m)\u001b[0m\u001b[0;34m\u001b[0m\u001b[0;34m\u001b[0m\u001b[0m\n\u001b[0m",
            "\u001b[0;32m<ipython-input-44-d527022e2208>\u001b[0m in \u001b[0;36midentificandoApreensao\u001b[0;34m()\u001b[0m\n\u001b[1;32m      7\u001b[0m   \u001b[0;32mif\u001b[0m \u001b[0mtipoAprend\u001b[0m \u001b[0;34m==\u001b[0m \u001b[0;34m'veiculo'\u001b[0m\u001b[0;34m:\u001b[0m\u001b[0;34m\u001b[0m\u001b[0;34m\u001b[0m\u001b[0m\n\u001b[1;32m      8\u001b[0m     \u001b[0;32mfor\u001b[0m \u001b[0mi\u001b[0m \u001b[0;32min\u001b[0m \u001b[0mrange\u001b[0m\u001b[0;34m(\u001b[0m\u001b[0mquant\u001b[0m\u001b[0;34m)\u001b[0m\u001b[0;34m:\u001b[0m\u001b[0;34m\u001b[0m\u001b[0;34m\u001b[0m\u001b[0m\n\u001b[0;32m----> 9\u001b[0;31m       \u001b[0mveiculo\u001b[0m\u001b[0;34m(\u001b[0m\u001b[0;34m)\u001b[0m\u001b[0;34m\u001b[0m\u001b[0;34m\u001b[0m\u001b[0m\n\u001b[0m\u001b[1;32m     10\u001b[0m   \u001b[0;32melif\u001b[0m \u001b[0mtipoAprend\u001b[0m \u001b[0;34m==\u001b[0m \u001b[0;34m'pessoa'\u001b[0m\u001b[0;34m:\u001b[0m\u001b[0;34m\u001b[0m\u001b[0;34m\u001b[0m\u001b[0m\n\u001b[1;32m     11\u001b[0m     \u001b[0;32mfor\u001b[0m \u001b[0mi\u001b[0m \u001b[0;32min\u001b[0m \u001b[0mrange\u001b[0m\u001b[0;34m(\u001b[0m\u001b[0mquant\u001b[0m\u001b[0;34m)\u001b[0m\u001b[0;34m:\u001b[0m\u001b[0;34m\u001b[0m\u001b[0;34m\u001b[0m\u001b[0m\n",
            "\u001b[0;31mTypeError\u001b[0m: 'list' object is not callable"
          ]
        }
      ]
    }
  ]
}