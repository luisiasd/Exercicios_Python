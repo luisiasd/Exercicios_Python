{
  "nbformat": 4,
  "nbformat_minor": 0,
  "metadata": {
    "colab": {
      "name": "Exercicio_9.ipynb",
      "provenance": [],
      "collapsed_sections": []
    },
    "kernelspec": {
      "name": "python3",
      "display_name": "Python 3"
    }
  },
  "cells": [
    {
      "cell_type": "code",
      "metadata": {
        "id": "jdmSXOkyKMNv"
      },
      "source": [
        "moto = []\n",
        "carro = []\n",
        "onibus = []\n"
      ],
      "execution_count": 28,
      "outputs": []
    },
    {
      "cell_type": "code",
      "metadata": {
        "id": "2JniBcaexm3q"
      },
      "source": [
        "#Identificando Veiculos / Quantidade\n",
        "def identificandoVeiculo ():\n",
        "\n",
        "  tipodeVeiculo = str(input(\"Veiculo Apreendido?:\"))\n",
        "  quant = int(input(\"Quantidade?:\"))\n",
        "  \n",
        "  if tipodeVeiculo == 'carro':\n",
        "    veiculoCarro()\n",
        "  elif tipodeVeiculo == 'moto':\n",
        "    print(\"codigo moto\")\n",
        "  elif tipodeVeiculo == 'ônibus':\n",
        "    print(\"codigo ônibus\")\n",
        "  elif tipodeVeiculo == 'onibus':\n",
        "    print(\"codigo onibus\")\n",
        "  else:\n",
        "    print(\"Veiculo Invalido!\")\n",
        "    identificandoVeiculo()\n",
        "\n"
      ],
      "execution_count": 22,
      "outputs": []
    },
    {
      "cell_type": "code",
      "metadata": {
        "id": "ik2JAeAmO0kV"
      },
      "source": [
        "#Registrando Informações\n",
        "\n",
        "def veiculoCarro():\n",
        "  for i in range(quant):\n",
        "    carro.append(input(\"Nome:\"))\n",
        "    carro.append(input(\"Placa\"))\n",
        "    carro.append(input(\"Chassi:\"))\n",
        "    carro.append(input(\"Data:\"))\n",
        "    carro.append(str(input(\"Motivo\")))"
      ],
      "execution_count": 30,
      "outputs": []
    },
    {
      "cell_type": "code",
      "metadata": {
        "colab": {
          "base_uri": "https://localhost:8080/"
        },
        "id": "8JoyzrWu6Sqo",
        "outputId": "2a976f03-0a15-4cf9-c7da-2ef3cf7070f6"
      },
      "source": [
        "identificandoVeiculo()"
      ],
      "execution_count": 32,
      "outputs": [
        {
          "output_type": "stream",
          "text": [
            "Veiculo Apreendido?:carro\n",
            "Quantidade?:2\n"
          ],
          "name": "stdout"
        }
      ]
    },
    {
      "cell_type": "code",
      "metadata": {
        "id": "reEjPo9N0mJT"
      },
      "source": [
        ""
      ],
      "execution_count": null,
      "outputs": []
    }
  ]
}