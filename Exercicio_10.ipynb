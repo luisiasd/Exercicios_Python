{
  "nbformat": 4,
  "nbformat_minor": 0,
  "metadata": {
    "colab": {
      "name": "Exercicio_10.ipynb",
      "provenance": []
    },
    "kernelspec": {
      "name": "python3",
      "display_name": "Python 3"
    }
  },
  "cells": [
    {
      "cell_type": "code",
      "metadata": {
        "id": "vjecNNZnfr0v"
      },
      "source": [
        "import numpy as np\n",
        "\n",
        "caloria = []\n",
        "alimento = []\n",
        "print('Calculo de Calorias')\n",
        "\n",
        "for i in range(3):\n",
        "  resp = input(\"alimento:\")\n",
        "  alimento.append(resp.upper())\n",
        "  resp = input(\"Calorias:\")\n",
        "  caloria.append(resp.upper())\n",
        "\n",
        "\n",
        "alimento = np.array(alimento)\n",
        "caloria = np.array(caloria)\n",
        "\n",
        "\n",
        "print(alimento)\n",
        "print(caloria)\n"
      ],
      "execution_count": null,
      "outputs": []
    }
  ]
}